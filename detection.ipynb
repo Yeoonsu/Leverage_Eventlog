{
 "cells": [
  {
   "cell_type": "code",
   "execution_count": 1,
   "metadata": {},
   "outputs": [],
   "source": [
    "import pandas as pd\n",
    "import numpy as np\n",
    "import matplotlib.pyplot as plt\n",
    "import seaborn as sns"
   ]
  },
  {
   "cell_type": "code",
   "execution_count": null,
   "metadata": {},
   "outputs": [],
   "source": [
    "def find_threshold(data, target_ratio=0.1):\n",
    "    \"\"\"\n",
    "    주어진 데이터에서 leverage2 값을 기반으로 'Anomaly' 또는 'Normal'로 예측하고,\n",
    "    'Normal'로 분류된 데이터의 길이가 전체 데이터의 target_ratio 비율이 되도록 하는 임계값을 찾는 함수.\n",
    "\n",
    "    Parameters:\n",
    "    data (pd.DataFrame): 'leverage2' 컬럼을 포함하는 데이터프레임\n",
    "    target_ratio (float): 'Normal'로 분류된 데이터의 목표 비율 (기본값: 0.1)\n",
    "\n",
    "    Returns:\n",
    "    float: 찾은 임계값 (threshold)\n",
    "    \"\"\"\n",
    "    sorted_data = data.sort_values(by='leverage2')\n",
    "    total_length = len(data)\n",
    "    target_length = int(target_ratio * total_length)\n",
    "\n",
    "    if target_length == 0:\n",
    "        raise ValueError(\"Target length is too small. Consider increasing the target_ratio or using a larger dataset.\")\n",
    "\n",
    "    # leverage2 값을 정렬하여 target_length 위치에 해당하는 값을 찾음\n",
    "    threshold = sorted_data.iloc[target_length]['leverage2']\n",
    "\n",
    "    # 해당 임계값을 사용하여 'Prediction' 컬럼을 업데이트\n",
    "    data['Prediction'] = data['leverage2'].apply(lambda x: 'Anomaly' if x > threshold else 'Normal')\n",
    "    \n",
    "    # 결과 출력\n",
    "    filtered_data_leverage2 = data[data['Prediction'] == 'Normal']\n",
    "    print(f\"Found threshold: {threshold}\")\n",
    "    print(f\"Number of 'Normal' predictions: {len(filtered_data_leverage2)}\")\n",
    "\n",
    "    filtered_data_leverage_\n",
    "    \n",
    "\n",
    "# 함수 호출\n",
    "# threshold = find_threshold(data, target_ratio=0.1)\n",
    "\n",
    "data = pca2 폴더에 있는 파일들\n",
    "\n",
    "if 파일 제목에 0.003이 포함되어 있으면\n",
    "# data 하나당 target_ratio가 0.05, 0.1, 0.15일 때의 임계값을 찾아보세요\n",
    "threshold_005 = find_threshold(data, target_ratio=0.05)\n",
    "threshold_010 = find_threshold(data, target_ratio=0.1)\n",
    "threshold_015 = find_threshold(data, target_ratio=0.15)\n",
    "\n",
    "elif 파일 제목에 0.006이 포함되어 있으면\n",
    "# data 하나당 target_ratio가 0.15, 0.2, 0.25일 때의 임계값을 찾아보세요\n",
    "threshold_015 = find_threshold(data, target_ratio=0.15)\n",
    "threshold_020 = find_threshold(data, target_ratio=0.2)\n",
    "threshold_025 = find_threshold(data, target_ratio=0.25)\n",
    "\n",
    "elif 파일 제목에 0.009가 포함되어 있으면\n",
    "# data 하나당 target_ratio가 0.25, 0.3, 0.35일 때의 임계값을 찾아보세요\n",
    "threshold_025 = find_threshold(data, target_ratio=0.25)\n",
    "threshold_030 = find_threshold(data, target_ratio=0.3)\n",
    "threshold_035 = find_threshold(data, target_ratio=0.35)"
   ]
  }
 ],
 "metadata": {
  "kernelspec": {
   "display_name": "Python 3",
   "language": "python",
   "name": "python3"
  },
  "language_info": {
   "codemirror_mode": {
    "name": "ipython",
    "version": 3
   },
   "file_extension": ".py",
   "mimetype": "text/x-python",
   "name": "python",
   "nbconvert_exporter": "python",
   "pygments_lexer": "ipython3",
   "version": "3.10.11"
  }
 },
 "nbformat": 4,
 "nbformat_minor": 2
}
